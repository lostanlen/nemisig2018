{
 "cells": [
  {
   "cell_type": "code",
   "execution_count": 8,
   "metadata": {
    "collapsed": false,
    "deletable": true,
    "editable": true
   },
   "outputs": [],
   "source": [
    "import sys\n",
    "sys.path.append('../src')\n",
    "\n",
    "from collections import Counter\n",
    "import localmodule\n",
    "import functools\n",
    "from joblib import Memory, Parallel, delayed\n",
    "from librosa.display import specshow\n",
    "import math\n",
    "import music21 as m21\n",
    "import numpy as np\n",
    "import os\n",
    "import scipy"
   ]
  },
  {
   "cell_type": "code",
   "execution_count": 9,
   "metadata": {
    "collapsed": false,
    "deletable": true,
    "editable": true
   },
   "outputs": [],
   "source": [
    "composer_str = \"Haydn\"\n",
    "track_str = \"op71n2-04\"\n",
    "\n",
    "# Define constants.\n",
    "J_tm = 9\n",
    "N = 2**10\n",
    "n_octaves = 8\n",
    "midi_octave_offset = 2\n",
    "quantization = 2.0\n",
    "xi = 0.4\n",
    "sigma = 0.16\n",
    "\n",
    "midis = []\n",
    "\n",
    "# Parse Kern score with music21.\n",
    "#data_dir = localmodule.get_data_dir()\n",
    "data_dir = '/Users/vl238/nemisig2018/nemisig2018_data'\n",
    "dataset_name = localmodule.get_dataset_name()\n",
    "kern_name = \"_\".join([dataset_name, \"kern\"])\n",
    "kern_dir = os.path.join(data_dir, kern_name)\n",
    "composer_dir = os.path.join(kern_dir, composer_str)\n",
    "track_name = track_str + \".krn\"\n",
    "track_path = os.path.join(composer_dir, track_name)\n",
    "score = m21.converter.parse(track_path)\n",
    "pianoroll_parts = []\n",
    "n_parts = len(score.parts)\n",
    "n_semitones = 12 * n_octaves\n",
    "\n",
    "# Loop over parts to extract piano rolls.\n",
    "for part_id in range(n_parts):\n",
    "    part = score.parts[part_id]\n",
    "    pianoroll_part = np.zeros((n_semitones, N))\n",
    "    \n",
    "    # Get the measure offsets\n",
    "    measure_offset = {}\n",
    "    for el in part.recurse(classFilter=('Measure')):\n",
    "        measure_offset[el.measureNumber] = el.offset\n",
    "    \n",
    "    # Loop over notes\n",
    "    for note in part.recurse(classFilter=('Note')):\n",
    "        note_start = int(math.ceil(\n",
    "                (measure_offset[note.measureNumber] +\\\n",
    "                 note.offset) *\\\n",
    "            quantization))\n",
    "        note_end = int(math.ceil((\n",
    "                measure_offset[note.measureNumber] +\\\n",
    "                note.offset +\\\n",
    "                note.duration.quarterLength) *\\\n",
    "            quantization))\n",
    "        pianoroll_part[\n",
    "            note.midi - midi_octave_offset * 12,\n",
    "            note_start:note_end] = 1\n",
    "        midis.append(note.midi)\n",
    "    pianoroll_parts.append(pianoroll_part)\n",
    "    \n",
    "# Stack parts into piano roll.\n",
    "mtrack_pianoroll = np.stack(pianoroll_parts, 2)\n",
    "pianoroll = mtrack_pianoroll.max(axis=2)\n",
    "\n",
    "# Setup wavelet filter bank over time.\n",
    "wavelet_filterbank_ft = np.zeros((1, N, J_tm))\n",
    "for j in range(J_tm-1):\n",
    "    xi_j = xi * 2**(-j)\n",
    "    sigma_j = sigma * 2**(-j)\n",
    "    center = xi_j * N\n",
    "    den = 2 * sigma_j * sigma_j * N * N\n",
    "    psi_ft = localmodule.morlet(center, den, N, n_periods=4)\n",
    "    conj_psi_ft = np.roll(psi_ft, -1)[::-1]\n",
    "    wavelet_filterbank_ft[0, :, -1 - j] = psi_ft\n",
    "    \n",
    "# Append scaling function phi (average).\n",
    "wavelet_filterbank_ft[0, 0, 0] = 1\n",
    "\n",
    "# Convolve pianoroll with filterbank.\n",
    "pianoroll_ft = scipy.fftpack.fft(pianoroll, axis=1)\n",
    "pianoroll_ft = np.expand_dims(pianoroll_ft, axis=2)\n",
    "wavelet_transform_ft = pianoroll_ft * wavelet_filterbank_ft\n",
    "wavelet_transform = scipy.fftpack.ifft(wavelet_transform_ft, axis=1)\n"
   ]
  },
  {
   "cell_type": "code",
   "execution_count": 10,
   "metadata": {
    "collapsed": false,
    "deletable": true,
    "editable": true
   },
   "outputs": [],
   "source": [
    "# Reshape MIDI axis to chromagram\n",
    "chromagram = np.reshape(wavelet_transform,\n",
    "    (12, -1, wavelet_transform.shape[1], wavelet_transform.shape[2]), 'F')\n",
    "\n",
    "# Construct eigentriads\n",
    "cosine_basis = np.array([[np.cos(2*np.pi*omega*t/3) for omega in range(3)] for t in range(3)]).T\n",
    "sine_basis = np.array([[np.sin(2*np.pi*omega*t/3) for omega in range(3)] for t in range(3)]).T\n",
    "fourier_basis = cosine_basis + np.complex(0, 1) * sine_basis\n",
    "major_template = [0, 4, 7]\n",
    "minor_template = [0, 3, 7]\n",
    "major_eigentriads = np.zeros((12, 3), dtype=np.complex)\n",
    "minor_eigentriads = np.zeros((12, 3), dtype=np.complex)\n",
    "for omega in range(3):\n",
    "    for t, p in enumerate(major_template):\n",
    "        major_eigentriads[p, omega] = fourier_basis[t, omega]\n",
    "    for t, p in enumerate(minor_template):\n",
    "        minor_eigentriads[p, omega] = fourier_basis[t, omega]\n",
    "eigentriads = np.stack(\n",
    "    (major_eigentriads, minor_eigentriads), axis=1)\n",
    "\n",
    "# Convolve chromagram with eigentriads\n",
    "chromagram_ft = scipy.fftpack.fft(chromagram, axis=0)\n",
    "chromagram_ft = chromagram_ft[:, np.newaxis, :, :, :, np.newaxis]\n",
    "eigentriads_ft = scipy.fftpack.fft(eigentriads, axis=0)\n",
    "eigentriads_ft = eigentriads_ft[:, :, np.newaxis,\n",
    "    np.newaxis, np.newaxis, :]\n",
    "eigentriad_transform_ft = chromagram_ft * eigentriads_ft\n",
    "eigentriad_transform = scipy.fftpack.fft(\n",
    "    eigentriad_transform_ft, axis=0)\n",
    "\n",
    "# Apply modulus nonlinearity\n",
    "eigentriad_transform_modulus = np.abs(eigentriad_transform)\n",
    "\n",
    "# Convolve eigentriad transform with filterbank again.\n",
    "# This is akin to a scattering transform.\n",
    "# We remove the finest scale (last two coefficients).\n",
    "eigentriad_transform_modulus_ft = scipy.fftpack.fft(eigentriad_transform_modulus, axis=3)\n",
    "eigentriad_transform_modulus_ft = eigentriad_transform_modulus_ft[:, :, :, :, :, :, np.newaxis]\n",
    "scattering_filterbank_ft = wavelet_filterbank_ft[:, np.newaxis, np.newaxis, :, np.newaxis, np.newaxis, :-2]\n",
    "scattering_transform_ft = eigentriad_transform_modulus_ft * scattering_filterbank_ft\n",
    "scattering_transform = scipy.fftpack.ifft(scattering_transform_ft, axis=3)\n"
   ]
  },
  {
   "cell_type": "code",
   "execution_count": 4,
   "metadata": {
    "collapsed": false,
    "deletable": true,
    "editable": true
   },
   "outputs": [
    {
     "data": {
      "text/plain": [
       "(12, 2, 8, 1, 9, 3, 7)"
      ]
     },
     "execution_count": 4,
     "metadata": {},
     "output_type": "execute_result"
    }
   ],
   "source": [
    "scattering_transform.shape"
   ]
  },
  {
   "cell_type": "code",
   "execution_count": 5,
   "metadata": {
    "collapsed": false,
    "deletable": true,
    "editable": true
   },
   "outputs": [],
   "source": [
    "# Reshape chroma and quality into a chord axis\n",
    "sc_shape = scattering_transform.shape\n",
    "tonnetz_shape = (\n",
    "    sc_shape[0]*sc_shape[1], sc_shape[2],\n",
    "    sc_shape[3], sc_shape[4], sc_shape[5],\n",
    "    sc_shape[6])\n",
    "tonnetz = np.reshape(scattering_transform,\n",
    "    tonnetz_shape, 'F')\n",
    "\n",
    "# Build adjacency matrix for Tonnetz graph\n",
    "# (1/3) Major to minor transitions.\n",
    "major_edges = np.zeros((12,))\n",
    "# Parallel minor (C major to C minor)\n",
    "major_edges[0] = 1\n",
    "# Relative minor (C major to A minor)\n",
    "major_edges[9] = 1\n",
    "# Leading tone minor (C major to E minor)\n",
    "major_edges[4] = 1\n",
    "# (2/3) Minor to major transitions\n",
    "minor_edges = np.zeros((12,))\n",
    "# Parallel major (C minor to C major)\n",
    "minor_edges[0] = 1\n",
    "# Relative major (C minor to Eb major)\n",
    "minor_edges[3] = 1\n",
    "# Leading tone major (C major to Ab minor)\n",
    "minor_edges[8] = 1\n",
    "# (2/3) Build full adjacency matrix by 4 blocks.\n",
    "major_adjacency = scipy.linalg.toeplitz(major_edges, minor_edges)\n",
    "minor_adjacency = scipy.linalg.toeplitz(minor_edges, major_edges)\n",
    "tonnetz_adjacency = np.zeros((24,24))\n",
    "tonnetz_adjacency[:12, 12:] = minor_adjacency\n",
    "tonnetz_adjacency[12:, :12] = major_adjacency\n",
    "\n",
    "# Define Laplacian on the Tonnetz graph.\n",
    "tonnetz_laplacian = 3 * np.eye(24) - tonnetz_adjacency\n",
    "\n",
    "# Compute eigenprogressions, i.e. eigenvectors of the Tonnetz Laplacian\n",
    "eigvecs, eigvals = np.linalg.eig(tonnetz_laplacian)\n",
    "\n",
    "# Diagonalize Laplacian.\n",
    "eigvals, eigvecs = np.linalg.eig(tonnetz_laplacian)\n",
    "sorting_indices = np.argsort(eigvals)\n",
    "eigvals = eigvals[sorting_indices]\n",
    "eigvecs = eigvecs[:, sorting_indices]\n",
    "\n",
    "# Key invariance\n",
    "phi = eigvecs[:, 0]\n",
    "\n",
    "# Tonic invariance with quality covariance\n",
    "psi_quality = eigvecs[:, 23]\n",
    "\n",
    "# C -> C# -> D ... simultaneously with Cm -> C#m -> ...\n",
    "# Major third periodicity.\n",
    "psi_chromatic = eigvecs[:, 1] + 1j * eigvecs[:, 2]\n",
    "\n",
    "# Major keys: pentatonic pattern (C D F G A) moving up a minor third.\n",
    "# Major keys: minor seventh pattern (B D E A) moving down a minor third.\n",
    "psi_pentatonic_up = eigvecs[:, 3] + 1j * eigvecs[:, 4]\n",
    "\n",
    "# Cm -> B -> Bm -> Bb -> Am -> ...\n",
    "# Minor third periodicity\n",
    "psi_Cm_B_Bm_Bb = eigvecs[:, 5] + 1j * eigvecs[:, 6]\n",
    "\n",
    "# C -> Am -> A -> Cm -> C ...\n",
    "# Relative (R) followed by parallel (P).\n",
    "# Major third periodicity\n",
    "j = np.complex(np.cos(2*np.pi/3), np.sin(2*np.pi/3))\n",
    "jbar = np.complex(np.cos(-2*np.pi/3), np.sin(-2*np.pi/3))\n",
    "psi_RP = eigvecs[:, 7] + j * eigvecs[:, 8] + jbar * eigvecs[:, 9]\n",
    "\n",
    "# C -> Bm -> Bb -> Am -> Ab -> ... \n",
    "psi_C_Bm_Bb_Am = eigvecs[:, 10] + 1j * eigvecs[:, 11]\n",
    "\n",
    "# Upwards minor third. Qualities in phase opposition.\n",
    "psi_minorthird_quality = eigvecs[:, 12] + 1j * eigvecs[:, 13]\n",
    "\n",
    "# Ab is simultaneous with Am.\n",
    "# Abstract notion of \"third\" degree with quality invariance?\n",
    "# Tritone periodicity\n",
    "j = np.complex(np.cos(2*np.pi/3), np.sin(2*np.pi/3))\n",
    "jbar = np.complex(np.cos(-2*np.pi/3), np.sin(-2*np.pi/3))\n",
    "psi_third_tritone = eigvecs[:, 14] + j * eigvecs[:, 15] + jbar * eigvecs[:, 16]\n",
    "\n",
    "# C -> C#m -> D -> D#m -> ...\n",
    "# Minor third periodicity.\n",
    "psi_C_Dbm_D_Ebm = eigvecs[:, 17] + 1j * eigvecs[:, 18]\n",
    "\n",
    "# Major keys: pentatonic pattern (C D F G A) moving down a minor third.\n",
    "# Major keys: minor seventh pattern (B D E A) moving up a minor third.\n",
    "psi_pentatonic_down = eigvecs[:, 19] + 1j * eigvecs[:, 20]\n",
    "\n",
    "# C is simultaneous with Dm.\n",
    "# Abstract notion of minor key?\n",
    "# Major third periodicity.\n",
    "psi_minorkey = eigvecs[:, 21] + 1j * eigvecs[:, 22]\n",
    "\n",
    "# Concatenate eigenprogressions.\n",
    "eigenprogressions = np.stack((\n",
    "    phi,\n",
    "    psi_quality,\n",
    "    psi_chromatic,\n",
    "    psi_pentatonic_up,\n",
    "    psi_Cm_B_Bm_Bb,\n",
    "    psi_RP,\n",
    "    psi_C_Bm_Bb_Am,\n",
    "    psi_C_Bm_Bb_Am,\n",
    "    psi_minorthird_quality,\n",
    "    psi_third_tritone,\n",
    "    psi_C_Dbm_D_Ebm,\n",
    "    psi_pentatonic_down,\n",
    "    psi_minorkey), axis=-1)\n",
    "eigenprogressions = np.reshape(\n",
    "    eigenprogressions, (12, 2, -1), 'F')\n",
    "\n",
    "\n",
    "# Apply eigenprogression transform.\n",
    "scattering_transform_ft = scipy.fftpack.fft(scattering_transform, axis=0)\n",
    "scattering_transform_ft = scattering_transform_ft[:, :, :, :, :, :, :, np.newaxis]\n",
    "eigenprogressions_ft = scipy.fftpack.fft(eigenprogressions, axis=0)\n",
    "eigenprogressions_ft = eigenprogressions_ft[\n",
    "    :, :, np.newaxis, np.newaxis, np.newaxis, np.newaxis, np.newaxis]\n",
    "eigenprogression_transform_ft = scattering_transform_ft * eigenprogressions_ft\n",
    "eigenprogression_transform = scipy.fftpack.ifft(eigenprogression_transform_ft, axis=0)\n",
    "\n",
    "\n",
    "# Setup wavelet filter bank across octaves.\n",
    "# This is comparable to a spiral scattering transform.\n",
    "J_oct = 3\n",
    "octave_filterbank_ft = np.zeros((n_octaves, 2*J_oct-1))\n",
    "for j in range(J_oct-1):\n",
    "    xi_j = xi * 2**(-j)\n",
    "    sigma_j = sigma * 2**(-j)\n",
    "    center = xi_j * n_octaves\n",
    "    den = 2 * sigma_j * sigma_j * n_octaves * n_octaves\n",
    "    psi_ft = localmodule.morlet(center, den, n_octaves, n_periods=4)\n",
    "    conj_psi_ft = np.roll(psi_ft, -1)[::-1]\n",
    "    octave_filterbank_ft[:, -1 - 2*j] = psi_ft\n",
    "    octave_filterbank_ft[:, -1 - (2*j+1)] = conj_psi_ft\n",
    "octave_filterbank_ft[0, 0] = 1\n",
    "octave_filterbank_ft = octave_filterbank_ft[\n",
    "    np.newaxis, np.newaxis, :,\n",
    "    np.newaxis, np.newaxis,\n",
    "    np.newaxis, np.newaxis, np.newaxis]\n",
    "\n",
    "\n",
    "# Apply octave transform.\n",
    "eigenprogression_transform_ft = scipy.fftpack.fft(\n",
    "    eigenprogression_transform, axis=2)\n",
    "eigenprogression_transform_ft = eigenprogression_transform_ft[\n",
    "    :, :, :, :, :, :, :, :, np.newaxis]\n",
    "octave_transform_ft =\\\n",
    "    eigenprogression_transform_ft * octave_filterbank_ft\n",
    "octave_transform = scipy.fftpack.fft(\n",
    "    octave_transform_ft, axis=2)\n",
    "\n",
    "# Apply second-order modulus nonlinearity.\n",
    "U2 = np.abs(octave_transform)\n",
    "\n",
    "# Average over time, chroma, and octave.\n",
    "S2 = np.sum(U2, axis=(0, 2, 3))"
   ]
  },
  {
   "cell_type": "code",
   "execution_count": 38,
   "metadata": {
    "collapsed": false,
    "deletable": true,
    "editable": true
   },
   "outputs": [
    {
     "data": {
      "text/plain": [
       "(2, 17, 3, 15, 13, 5)"
      ]
     },
     "execution_count": 38,
     "metadata": {},
     "output_type": "execute_result"
    }
   ],
   "source": [
    "# OUTPUTS\n",
    "# Qualities.\n",
    "# Dim 2.\n",
    "S0 = S2[:, 0, 0, 0, 0, 0]\n",
    "\n",
    "# Wavelet transform modulus\n",
    "# Dim 17*2 = 24.\n",
    "S1 = S2[:, :, 0, 0, 0, 0]\n",
    "\n",
    "# Major eigentriads.\n",
    "# Dim 17*3 = 51.\n",
    "S1_maj_eigentriads = S2[0, :, :, 0, 0, 0]\n",
    "\n",
    "# Eigentriads.\n",
    "# Dim 2*17*3 = 102.\n",
    "S1_eigentriads = S2[:, :, :, 0, 0, 0]\n",
    "\n",
    "# Scattering transform.\n",
    "# Dim 2*17*3*15 = 1530.\n",
    "S2_scattering = S2[:, :, :, :, 0, 0]\n",
    "\n",
    "# Eigenprogressions.\n",
    "# Dim 2*17*3*13 = 1326.\n",
    "S2_eigenprogressions = S2[:, :, :, 0, :, 0]\n",
    "\n",
    "# Scattered eigenprogressions.\n",
    "# Dim 2*17*3*15*13 = 19890.\n",
    "S2_scattered_eigenprogressions = S2[:, :, :, :, :, 0]\n",
    "\n",
    "# Time-octave transform.\n",
    "# Dim 2*17*3*15*5 = 7650.\n",
    "S2_time_octave_transform = S2[:, :, :, :, 0, :]\n",
    "\n",
    "# Spiral eigenprogression transform!\n",
    "# Dim 2*17*3*15*13*5 = 99450.\n",
    "S2_spiral_eigenprogression_transform = S2"
   ]
  },
  {
   "cell_type": "code",
   "execution_count": 43,
   "metadata": {
    "collapsed": false,
    "deletable": true,
    "editable": true
   },
   "outputs": [
    {
     "data": {
      "text/plain": [
       "(12, 2, 8, 1, 17, 3, 15, 13, 5)"
      ]
     },
     "execution_count": 43,
     "metadata": {},
     "output_type": "execute_result"
    }
   ],
   "source": [
    "U2.shape"
   ]
  },
  {
   "cell_type": "code",
   "execution_count": 7,
   "metadata": {
    "collapsed": false,
    "deletable": true,
    "editable": true
   },
   "outputs": [
    {
     "ename": "NameError",
     "evalue": "name 'Y' is not defined",
     "output_type": "error",
     "traceback": [
      "\u001b[0;31m---------------------------------------------------------------------------\u001b[0m",
      "\u001b[0;31mNameError\u001b[0m                                 Traceback (most recent call last)",
      "\u001b[0;32m<ipython-input-7-606409a4f9aa>\u001b[0m in \u001b[0;36m<module>\u001b[0;34m()\u001b[0m\n\u001b[1;32m      5\u001b[0m \u001b[0;32mfor\u001b[0m \u001b[0mj\u001b[0m \u001b[0;32min\u001b[0m \u001b[0mrange\u001b[0m\u001b[0;34m(\u001b[0m\u001b[0;36m3\u001b[0m\u001b[0;34m,\u001b[0m \u001b[0;36m8\u001b[0m\u001b[0;34m)\u001b[0m\u001b[0;34m:\u001b[0m\u001b[0;34m\u001b[0m\u001b[0m\n\u001b[1;32m      6\u001b[0m     \u001b[0mplt\u001b[0m\u001b[0;34m.\u001b[0m\u001b[0mfigure\u001b[0m\u001b[0;34m(\u001b[0m\u001b[0;34m)\u001b[0m\u001b[0;34m\u001b[0m\u001b[0m\n\u001b[0;32m----> 7\u001b[0;31m     \u001b[0mspecshow\u001b[0m\u001b[0;34m(\u001b[0m\u001b[0mnp\u001b[0m\u001b[0;34m.\u001b[0m\u001b[0mreal\u001b[0m\u001b[0;34m(\u001b[0m\u001b[0mY\u001b[0m\u001b[0;34m[\u001b[0m\u001b[0;36m24\u001b[0m\u001b[0;34m:\u001b[0m\u001b[0;36m60\u001b[0m\u001b[0;34m,\u001b[0m \u001b[0;34m:\u001b[0m\u001b[0;36m512\u001b[0m\u001b[0;34m,\u001b[0m \u001b[0mj\u001b[0m\u001b[0;34m]\u001b[0m\u001b[0;34m)\u001b[0m\u001b[0;34m)\u001b[0m\u001b[0;34m\u001b[0m\u001b[0m\n\u001b[0m",
      "\u001b[0;31mNameError\u001b[0m: name 'Y' is not defined"
     ]
    },
    {
     "data": {
      "image/png": "[encoded data removed]",
      "text/plain": [
       "<Figure size 432x288 with 1 Axes>"
      ]
     },
     "metadata": {},
     "output_type": "display_data"
    },
    {
     "data": {
      "text/plain": [
       "<Figure size 432x288 with 0 Axes>"
      ]
     },
     "metadata": {},
     "output_type": "display_data"
    }
   ],
   "source": [
    "from matplotlib import pyplot as plt\n",
    "%matplotlib inline\n",
    "plt.figure()\n",
    "specshow(pianoroll[24:60, :512])\n",
    "for j in range(3, 8):\n",
    "    plt.figure()\n",
    "    specshow(np.real(Y[24:60, :512, j]))\n"
   ]
  },
  {
   "cell_type": "code",
   "execution_count": 11,
   "metadata": {
    "collapsed": false,
    "deletable": true,
    "editable": true
   },
   "outputs": [
    {
     "data": {
      "text/plain": [
       "<matplotlib.image.AxesImage at 0x114a0e208>"
      ]
     },
     "execution_count": 11,
     "metadata": {},
     "output_type": "execute_result"
    },
    {
     "data": {
      "image/png": "[encoded data removed]",
      "text/plain": [
       "<Figure size 432x288 with 1 Axes>"
      ]
     },
     "metadata": {},
     "output_type": "display_data"
    }
   ],
   "source": [
    "%matplotlib inline\n",
    "from matplotlib import pyplot as plt\n",
    "plt.imshow(-tonnetz_laplacian)"
   ]
  },
  {
   "cell_type": "code",
   "execution_count": 181,
   "metadata": {
    "collapsed": false,
    "deletable": true,
    "editable": true
   },
   "outputs": [
    {
     "data": {
      "text/plain": [
       "(12, 2, 3)"
      ]
     },
     "execution_count": 181,
     "metadata": {},
     "output_type": "execute_result"
    }
   ],
   "source": [
    "eigenarpeggios_ft.shape"
   ]
  },
  {
   "cell_type": "code",
   "execution_count": 35,
   "metadata": {
    "collapsed": false,
    "deletable": true,
    "editable": true
   },
   "outputs": [
    {
     "data": {
      "text/plain": [
       "2"
      ]
     },
     "execution_count": 35,
     "metadata": {},
     "output_type": "execute_result"
    }
   ],
   "source": [
    "x = [2, 3, 4]\n",
    "x[-3]"
   ]
  },
  {
   "cell_type": "code",
   "execution_count": 148,
   "metadata": {
    "collapsed": false,
    "deletable": true,
    "editable": true
   },
   "outputs": [
    {
     "data": {
      "text/plain": [
       "[1, 0, 0, 1, 0, 0, 0, 1, 0, 0, 0, 0]"
      ]
     },
     "execution_count": 148,
     "metadata": {},
     "output_type": "execute_result"
    }
   ],
   "source": [
    "minor_template"
   ]
  },
  {
   "cell_type": "code",
   "execution_count": null,
   "metadata": {
    "collapsed": true,
    "deletable": true,
    "editable": true
   },
   "outputs": [],
   "source": []
  }
 ],
 "metadata": {
  "kernelspec": {
   "display_name": "Python 3",
   "language": "python",
   "name": "python3"
  },
  "language_info": {
   "codemirror_mode": {
    "name": "ipython",
    "version": 3
   },
   "file_extension": ".py",
   "mimetype": "text/x-python",
   "name": "python",
   "nbconvert_exporter": "python",
   "pygments_lexer": "ipython3",
   "version": "3.5.4"
  }
 },
 "nbformat": 4,
 "nbformat_minor": 2
}
