{
 "cells": [
  {
   "cell_type": "code",
   "execution_count": 91,
   "metadata": {
    "collapsed": false,
    "deletable": true,
    "editable": true
   },
   "outputs": [],
   "source": [
    "import sys\n",
    "sys.path.append('../src')\n",
    "\n",
    "from collections import Counter\n",
    "import localmodule\n",
    "import functools\n",
    "from joblib import Memory, Parallel, delayed\n",
    "from librosa.display import specshow\n",
    "import math\n",
    "import music21 as m21\n",
    "import numpy as np\n",
    "import os"
   ]
  },
  {
   "cell_type": "code",
   "execution_count": 103,
   "metadata": {
    "collapsed": false,
    "deletable": true,
    "editable": true
   },
   "outputs": [
    {
     "ename": "NameError",
     "evalue": "name 'xi' is not defined",
     "output_type": "error",
     "traceback": [
      "\u001b[0;31m---------------------------------------------------------------------------\u001b[0m",
      "\u001b[0;31mNameError\u001b[0m                                 Traceback (most recent call last)",
      "\u001b[0;32m<ipython-input-103-40dca9197124>\u001b[0m in \u001b[0;36m<module>\u001b[0;34m()\u001b[0m\n\u001b[1;32m     48\u001b[0m \u001b[0mfilterbank\u001b[0m \u001b[0;34m=\u001b[0m \u001b[0mnp\u001b[0m\u001b[0;34m.\u001b[0m\u001b[0mzeros\u001b[0m\u001b[0;34m(\u001b[0m\u001b[0;34m(\u001b[0m\u001b[0;36m1\u001b[0m\u001b[0;34m,\u001b[0m \u001b[0mN\u001b[0m\u001b[0;34m,\u001b[0m \u001b[0mJ_tm\u001b[0m\u001b[0;34m-\u001b[0m\u001b[0;36m2\u001b[0m\u001b[0;34m)\u001b[0m\u001b[0;34m)\u001b[0m\u001b[0;34m\u001b[0m\u001b[0m\n\u001b[1;32m     49\u001b[0m \u001b[0;32mfor\u001b[0m \u001b[0mj\u001b[0m \u001b[0;32min\u001b[0m \u001b[0mrange\u001b[0m\u001b[0;34m(\u001b[0m\u001b[0mJ_tm\u001b[0m\u001b[0;34m-\u001b[0m\u001b[0;36m2\u001b[0m\u001b[0;34m)\u001b[0m\u001b[0;34m:\u001b[0m\u001b[0;34m\u001b[0m\u001b[0m\n\u001b[0;32m---> 50\u001b[0;31m     \u001b[0mxi_j\u001b[0m \u001b[0;34m=\u001b[0m \u001b[0mxi\u001b[0m \u001b[0;34m*\u001b[0m \u001b[0;36m2\u001b[0m\u001b[0;34m**\u001b[0m\u001b[0;34m(\u001b[0m\u001b[0;34m-\u001b[0m\u001b[0mj\u001b[0m\u001b[0;34m)\u001b[0m\u001b[0;34m\u001b[0m\u001b[0m\n\u001b[0m\u001b[1;32m     51\u001b[0m     \u001b[0msigma_j\u001b[0m \u001b[0;34m=\u001b[0m \u001b[0msigma\u001b[0m \u001b[0;34m*\u001b[0m \u001b[0;36m2\u001b[0m\u001b[0;34m**\u001b[0m\u001b[0;34m(\u001b[0m\u001b[0;34m-\u001b[0m\u001b[0mj\u001b[0m\u001b[0;34m)\u001b[0m\u001b[0;34m\u001b[0m\u001b[0m\n\u001b[1;32m     52\u001b[0m     \u001b[0mcenter\u001b[0m \u001b[0;34m=\u001b[0m \u001b[0mxi_j\u001b[0m \u001b[0;34m*\u001b[0m \u001b[0mN\u001b[0m\u001b[0;34m\u001b[0m\u001b[0m\n",
      "\u001b[0;31mNameError\u001b[0m: name 'xi' is not defined"
     ]
    }
   ],
   "source": [
    "composer_str = \"Haydn\"\n",
    "track_str = \"op71n2-04\"\n",
    "\n",
    "J_tm = 9\n",
    "N = 2**J_tm\n",
    "quantization = 2.0\n",
    "xi = 0.4\n",
    "sigma = 0.16\n",
    "\n",
    "data_dir = localmodule.get_data_dir()\n",
    "dataset_name = localmodule.get_dataset_name()\n",
    "kern_name = \"_\".join([dataset_name, \"kern\"])\n",
    "kern_dir = os.path.join(data_dir, kern_name)\n",
    "composer_dir = os.path.join(kern_dir, composer_str)\n",
    "track_name = track_str + \".krn\"\n",
    "track_path = os.path.join(composer_dir, track_name)\n",
    "score = m21.converter.parse(path)\n",
    "pianoroll_parts = []\n",
    "n_parts = len(score.parts)\n",
    "\n",
    "# Loop over parts.\n",
    "for part_id in range(n_parts):\n",
    "    part = score.parts[part_id]\n",
    "    pianoroll_part = np.zeros((128, N))\n",
    "    \n",
    "    # Get the measure offsets\n",
    "    measure_offset = {}\n",
    "    for el in part.recurse(classFilter=('Measure')):\n",
    "        measure_offset[el.measureNumber] = el.offset\n",
    "    \n",
    "    # Loop over notes\n",
    "    for note in part.recurse(classFilter=('Note')):\n",
    "        note_start = int(math.ceil(\n",
    "                (measure_offset[note.measureNumber] +\\\n",
    "                 note.offset) *\\\n",
    "            quantization))\n",
    "        note_end = int(math.ceil((\n",
    "                measure_offset[note.measureNumber] +\\\n",
    "                note.offset +\\\n",
    "                note.duration.quarterLength) *\\\n",
    "            quantization))\n",
    "        pianoroll_part[note.midi,note_start:note_end] = 1\n",
    "    pianoroll_parts.append(pianoroll_part)\n",
    "    \n",
    "# Stack parts\n",
    "mtrack_pianoroll = np.stack(pianoroll_parts, 2)\n",
    "pianoroll = mtrack_pianoroll.max(axis=2)\n",
    "\n",
    "# Setup filter bank.\n",
    "filterbank = np.zeros((1, N, J_tm-2))\n",
    "for j in range(J_tm-2):\n",
    "    xi_j = xi * 2**(-j)\n",
    "    sigma_j = sigma * 2**(-j)\n",
    "    center = xi_j * N\n",
    "    den = 2 * sigma_j * sigma_j * N * N\n",
    "    psi = morlet(center, den, N, n_periods=4)\n",
    "    filterbank[0, :, j] = psi\n",
    "for m in range(dim):\n",
    "    filterbank = np.expand_dims(filterbank, axis=2)"
   ]
  },
  {
   "cell_type": "code",
   "execution_count": 104,
   "metadata": {
    "collapsed": false
   },
   "outputs": [
    {
     "ename": "NameError",
     "evalue": "name 'xi' is not defined",
     "output_type": "error",
     "traceback": [
      "\u001b[0;31m---------------------------------------------------------------------------\u001b[0m",
      "\u001b[0;31mNameError\u001b[0m                                 Traceback (most recent call last)",
      "\u001b[0;32m<ipython-input-104-f2dae0681e8e>\u001b[0m in \u001b[0;36m<module>\u001b[0;34m()\u001b[0m\n\u001b[0;32m----> 1\u001b[0;31m \u001b[0mxi\u001b[0m\u001b[0;34m\u001b[0m\u001b[0m\n\u001b[0m",
      "\u001b[0;31mNameError\u001b[0m: name 'xi' is not defined"
     ]
    }
   ],
   "source": [
    "xi"
   ]
  },
  {
   "cell_type": "code",
   "execution_count": 102,
   "metadata": {
    "collapsed": false
   },
   "outputs": [
    {
     "data": {
      "text/plain": [
       "<matplotlib.axes._subplots.AxesSubplot at 0x2b222d1dcf98>"
      ]
     },
     "execution_count": 102,
     "metadata": {},
     "output_type": "execute_result"
    },
    {
     "data": {
      "image/png": "[encoded data removed]",
      "text/plain": [
       "<matplotlib.figure.Figure at 0x2b22340309b0>"
      ]
     },
     "metadata": {},
     "output_type": "display_data"
    }
   ],
   "source": [
    "specshow(pianoroll)"
   ]
  },
  {
   "cell_type": "code",
   "execution_count": null,
   "metadata": {
    "collapsed": true
   },
   "outputs": [],
   "source": [
    "track_names = next(os.walk(composer_dir))[2]\n",
    "n_tracks = len(track_names)"
   ]
  }
 ],
 "metadata": {
  "kernelspec": {
   "display_name": "Python 3",
   "language": "python",
   "name": "python3"
  },
  "language_info": {
   "codemirror_mode": {
    "name": "ipython",
    "version": 3
   },
   "file_extension": ".py",
   "mimetype": "text/x-python",
   "name": "python",
   "nbconvert_exporter": "python",
   "pygments_lexer": "ipython3",
   "version": "3.6.0"
  }
 },
 "nbformat": 4,
 "nbformat_minor": 2
}
