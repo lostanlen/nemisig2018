{
 "cells": [
  {
   "cell_type": "code",
   "execution_count": 29,
   "metadata": {
    "collapsed": false,
    "deletable": true,
    "editable": true
   },
   "outputs": [],
   "source": [
    "import h5py\n",
    "import numpy as np\n",
    "import os\n",
    "import sys\n",
    "\n",
    "sys.path.append(\"../src\")\n",
    "\n",
    "import localmodule\n",
    "\n",
    "composers = localmodule.get_composers()\n",
    "data_dir = localmodule.get_data_dir()\n",
    "dataset_name = localmodule.get_dataset_name()\n",
    "eigenprogression_name = \"_\".join([\n",
    "    dataset_name,\n",
    "    \"eigenprogression-transforms\"])\n",
    "eigenprogression_dir = os.path.join(\n",
    "    data_dir, eigenprogression_name)\n",
    "S2s = []\n",
    "\n",
    "for composer_str in composers:\n",
    "    composer_dir = os.path.join(\n",
    "        eigenprogression_dir, composer_str)\n",
    "    eigenprogression_names = os.listdir(composer_dir)\n",
    "    n_pieces = len(eigenprogression_names)\n",
    "\n",
    "    for piece_id in range(n_pieces):\n",
    "        eigenprogression_name = eigenprogression_names[piece_id]\n",
    "        eigenprogression_path = os.path.join(\n",
    "            composer_dir, eigenprogression_name)\n",
    "\n",
    "        h5py_file = h5py.File(eigenprogression_path)\n",
    "        h5py_keys = list(h5py_file.keys())\n",
    "        h5py_key = h5py_keys[0]\n",
    "        S2 = h5py_file[h5py_key][:]\n",
    "        S2s.append(S2)\n",
    "        h5py_file.close()"
   ]
  },
  {
   "cell_type": "code",
   "execution_count": 47,
   "metadata": {
    "collapsed": false
   },
   "outputs": [
    {
     "data": {
      "text/plain": [
       "(107, 8, 3, 6, 13, 5)"
      ]
     },
     "execution_count": 47,
     "metadata": {},
     "output_type": "execute_result"
    }
   ],
   "source": [
    "S2.shape"
   ]
  },
  {
   "cell_type": "code",
   "execution_count": 61,
   "metadata": {
    "collapsed": false
   },
   "outputs": [],
   "source": [
    "S2_wavelets = S2[:, :, 0, 0, 0, 0]\n",
    "S2_eigentriads = S2[:, :, :, 0, 0, 0]\n",
    "S2_scattering = S2[:, :, :, :, 0, 0]\n",
    "S2_eigenprogressions = S2[:, :, :, :, :, 0]\n",
    "S2_spiral = S2"
   ]
  },
  {
   "cell_type": "code",
   "execution_count": 62,
   "metadata": {
    "collapsed": true
   },
   "outputs": [],
   "source": [
    "def sparsity_ratios(X):\n",
    "    X = np.reshape(X, (X.shape[0], -1))\n",
    "    l1_norms = np.linalg.norm(X, 1)\n",
    "    l2_norms = np.linalg.norm(X, 2)\n",
    "    return l1_norms / l2_norms"
   ]
  },
  {
   "cell_type": "code",
   "execution_count": 63,
   "metadata": {
    "collapsed": false
   },
   "outputs": [
    {
     "name": "stdout",
     "output_type": "stream",
     "text": [
      "6.70557\n",
      "4.58562\n",
      "4.52237\n",
      "2.95088\n"
     ]
    }
   ],
   "source": [
    "print(np.mean(sparsity_ratios(S2_wavelets)))\n",
    "print(np.mean(sparsity_ratios(S2_eigentriads)))\n",
    "print(np.mean(sparsity_ratios(S2_scattering)))\n",
    "print(np.mean(sparsity_ratios(S2_eigenprogressions)))"
   ]
  },
  {
   "cell_type": "code",
   "execution_count": 42,
   "metadata": {
    "collapsed": false
   },
   "outputs": [
    {
     "data": {
      "text/plain": [
       "array([ 2.55889726,  2.50836658,  2.57431173,  2.53464651,  2.59230757,\n",
       "        2.553303  ,  2.53795767,  2.5604248 ,  2.64078426,  2.6619668 ,\n",
       "        2.63055992,  2.58874297,  2.59081292,  2.60443115,  2.58131123,\n",
       "        2.5052073 ,  2.4683814 ,  2.59663844,  2.5940609 ,  2.5894196 ,\n",
       "        2.57149959,  2.58820772,  2.65693498,  2.52938366,  2.62717938,\n",
       "        2.56984115,  2.54255652,  2.52683187,  2.6050179 ,  2.54955864,\n",
       "        2.57309937,  2.54979777,  2.55369473,  2.60672951,  2.55942655,\n",
       "        2.56549525,  2.56462622,  2.58385181,  2.54087043,  2.60794663,\n",
       "        2.60392928,  2.63898826,  2.59114933,  2.60706925,  2.61496639,\n",
       "        2.5724864 ,  2.53497291,  2.50414729,  2.62072444,  2.6062994 ,\n",
       "        2.59966707,  2.5617044 ,  2.56564713,  2.60913992,  2.58346128,\n",
       "        2.58051562,  2.48498178,  2.56273985,  2.53007674,  2.54386663,\n",
       "        2.55468035,  2.53271008,  2.4890461 ,  2.61838031,  2.60066366,\n",
       "        2.54032421,  2.56180167,  2.60576415,  2.5974791 ,  2.58541036,\n",
       "        2.48159599,  2.58725381,  2.53618956,  2.54735136,  2.55546951,\n",
       "        2.56932282,  2.64978957,  2.56736588,  2.51721001,  2.63081193,\n",
       "        2.55693746,  2.4833858 ,  2.53702116,  2.52644491,  2.47062612,\n",
       "        2.56581616,  2.53559637,  2.51934838,  2.63604474,  2.51934433,\n",
       "        2.59704041,  2.5740571 ,  2.54469228,  2.59228468,  2.56899929,\n",
       "        2.55620408,  2.51177311,  2.55337453,  2.53062892,  2.53574705,\n",
       "        2.51560163,  2.59326386,  2.58117223,  2.55610442,  2.57146502,\n",
       "        2.55988479,  2.55338264], dtype=float32)"
      ]
     },
     "execution_count": 42,
     "metadata": {},
     "output_type": "execute_result"
    }
   ],
   "source": [
    "l1_norms / l2_norms"
   ]
  },
  {
   "cell_type": "code",
   "execution_count": null,
   "metadata": {
    "collapsed": true
   },
   "outputs": [],
   "source": []
  }
 ],
 "metadata": {
  "kernelspec": {
   "display_name": "Python 3",
   "language": "python",
   "name": "python3"
  },
  "language_info": {
   "codemirror_mode": {
    "name": "ipython",
    "version": 3
   },
   "file_extension": ".py",
   "mimetype": "text/x-python",
   "name": "python",
   "nbconvert_exporter": "python",
   "pygments_lexer": "ipython3",
   "version": "3.6.0"
  }
 },
 "nbformat": 4,
 "nbformat_minor": 2
}
