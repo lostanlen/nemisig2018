{
 "cells": [
  {
   "cell_type": "code",
   "execution_count": 15,
   "metadata": {
    "collapsed": false,
    "deletable": true,
    "editable": true
   },
   "outputs": [],
   "source": [
    "import h5py\n",
    "import numpy as np\n",
    "import os\n",
    "import sys\n",
    "import sklearn.decomposition\n",
    "\n",
    "sys.path.append(\"../src\")\n",
    "\n",
    "import localmodule\n",
    "\n",
    "composers = localmodule.get_composers()\n",
    "#data_dir = localmodule.get_data_dir()\n",
    "data_dir = '/Users/vl238/nemisig2018/nemisig2018_data'\n",
    "dataset_name = localmodule.get_dataset_name()\n",
    "eigenprogression_name = \"_\".join([\n",
    "    dataset_name,\n",
    "    \"eigenprogression-transforms\"])\n",
    "eigenprogression_dir = os.path.join(\n",
    "    data_dir, eigenprogression_name)\n",
    "S2s = []\n",
    "S2s_composers = []\n",
    "ys = []\n",
    "\n",
    "for composer_id, composer_str in enumerate(composers):\n",
    "    S2s_composer = []\n",
    "    composer_dir = os.path.join(\n",
    "        eigenprogression_dir, composer_str)\n",
    "    eigenprogression_names = os.listdir(composer_dir)\n",
    "    n_pieces = len(eigenprogression_names)\n",
    "\n",
    "    for piece_id in range(n_pieces):\n",
    "        eigenprogression_name = eigenprogression_names[piece_id]\n",
    "        eigenprogression_path = os.path.join(\n",
    "            composer_dir, eigenprogression_name)\n",
    "\n",
    "        h5py_file = h5py.File(eigenprogression_path)\n",
    "        h5py_keys = list(h5py_file.keys())\n",
    "        h5py_key = h5py_keys[0]\n",
    "        S2 = h5py_file[h5py_key][:]\n",
    "        S2s.append(S2)\n",
    "        S2s_composer.append(S2)\n",
    "        h5py_file.close()\n",
    "        ys.append(composer_id)\n",
    "        \n",
    "    S2s_composer = np.stack(S2s_composer)\n",
    "    S2s_composers.append(S2s_composer)\n",
    "        \n",
    "S2 = np.stack(S2s)\n",
    "y = np.array(ys)\n",
    "        \n",
    "S2_slices = []\n",
    "S2_slices.append(S2[:, :, 0, 0, 0, 0])\n",
    "S2_slices.append(S2[:, :, :, 0, 0, 0])\n",
    "S2_slices.append(S2[:, :, :, :, 0, 0])\n",
    "S2_slices.append(S2[:, :, :, :, :, 0])\n",
    "S2_slices.append(S2)\n",
    "\n",
    "Xs = []\n",
    "for S2_slice in S2_slices:\n",
    "    # Collapse feature tensor into a feature vector.\n",
    "    X = np.reshape(S2_slice, (S2_slice.shape[0], -1))\n",
    "    \n",
    "    # Discard the dimensions with zero variance.\n",
    "    # They correspond to decreasing scattering time scales.\n",
    "    X_stds = np.std(X, axis=0)\n",
    "    sorting_indices = np.argsort(X_stds)[::-1]\n",
    "    X = X[:, sorting_indices]\n",
    "    sorted_stds = X_stds[sorting_indices]\n",
    "    dimensionality = np.where(sorted_stds < 1e-6)[0]\n",
    "    if len(dimensionality) > 0:\n",
    "        X = X[:, :dimensionality[0]]\n",
    "    Xs.append(X)"
   ]
  },
  {
   "cell_type": "code",
   "execution_count": 86,
   "metadata": {
    "collapsed": false,
    "deletable": true,
    "editable": true
   },
   "outputs": [
    {
     "name": "stdout",
     "output_type": "stream",
     "text": [
      "Wavelets           67.29%\n",
      "Eigentriads        71.03%\n",
      "Scattering         71.96%\n",
      "Eigenprogressions  76.64%\n",
      "Spiral             80.37%\n"
     ]
    }
   ],
   "source": [
    "from sklearn.model_selection import GridSearchCV, LeaveOneOut\n",
    "from sklearn.pipeline import Pipeline\n",
    "from sklearn.preprocessing import FunctionTransformer, Normalizer\n",
    "from sklearn.svm import SVC\n",
    "\n",
    "log_transformer = FunctionTransformer(np.log)\n",
    "normalizer = Normalizer()\n",
    "\n",
    "svc = SVC(kernel=\"linear\", C=10000.0)\n",
    "\n",
    "estimators = [\n",
    "    (\"log_transformer\", log_transformer),\n",
    "    (\"normalizer\", normalizer),\n",
    "    (\"SVM\", svc)]\n",
    "pipe = Pipeline(estimators)\n",
    "params = dict(log_transformer = [None],\n",
    "              normalizer = [normalizer])\n",
    "loo = LeaveOneOut()\n",
    "\n",
    "names = [\n",
    "    \"Wavelets         \",\n",
    "    \"Eigentriads      \",\n",
    "    \"Scattering       \",\n",
    "    \"Eigenprogressions\",\n",
    "    \"Spiral           \"]\n",
    "\n",
    "for name, X in zip(names, Xs):\n",
    "    grid_search = GridSearchCV(pipe, param_grid=params, cv=loo, n_jobs=-1)\n",
    "    grid_search.fit(X[:, :1000], y)\n",
    "    print(name + \"  {:5.2f}%\".format(100 * grid_search.best_score_))\n",
    "    grid_search.best_estimator_"
   ]
  },
  {
   "cell_type": "code",
   "execution_count": 39,
   "metadata": {
    "collapsed": false
   },
   "outputs": [
    {
     "data": {
      "text/plain": [
       "(107, 1677)"
      ]
     },
     "execution_count": 39,
     "metadata": {},
     "output_type": "execute_result"
    }
   ],
   "source": [
    "Xs[3].shape"
   ]
  },
  {
   "cell_type": "code",
   "execution_count": 71,
   "metadata": {
    "collapsed": false,
    "deletable": true,
    "editable": true
   },
   "outputs": [
    {
     "data": {
      "text/plain": [
       "[2.5666959, 4.5978212, 6.1332026, 16.925119, 42.431236]"
      ]
     },
     "execution_count": 71,
     "metadata": {},
     "output_type": "execute_result"
    }
   ],
   "source": [
    "def mean_sparsity_ratio(X):\n",
    "    l1_norms = np.linalg.norm(X, 1, axis=1)\n",
    "    l2_norms = np.linalg.norm(X, 2, axis=1)\n",
    "    return np.mean(l1_norms / l2_norms)\n",
    "\n",
    "list(map(mean_sparsity_ratio, Xs))"
   ]
  },
  {
   "cell_type": "code",
   "execution_count": 54,
   "metadata": {
    "collapsed": false,
    "deletable": true,
    "editable": true
   },
   "outputs": [
    {
     "data": {
      "text/plain": [
       "(107, 1872)"
      ]
     },
     "execution_count": 54,
     "metadata": {},
     "output_type": "execute_result"
    }
   ],
   "source": []
  },
  {
   "cell_type": "code",
   "execution_count": null,
   "metadata": {
    "collapsed": true,
    "deletable": true,
    "editable": true
   },
   "outputs": [],
   "source": []
  }
 ],
 "metadata": {
  "kernelspec": {
   "display_name": "Python 3",
   "language": "python",
   "name": "python3"
  },
  "language_info": {
   "codemirror_mode": {
    "name": "ipython",
    "version": 3
   },
   "file_extension": ".py",
   "mimetype": "text/x-python",
   "name": "python",
   "nbconvert_exporter": "python",
   "pygments_lexer": "ipython3",
   "version": "3.5.2"
  }
 },
 "nbformat": 4,
 "nbformat_minor": 2
}
